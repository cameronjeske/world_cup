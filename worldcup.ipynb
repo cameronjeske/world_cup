{
 "cells": [
  {
   "cell_type": "code",
   "execution_count": 1,
   "metadata": {},
   "outputs": [
    {
     "name": "stderr",
     "output_type": "stream",
     "text": [
      "c:\\Users\\csjes\\anaconda3\\lib\\site-packages\\scipy\\__init__.py:146: UserWarning: A NumPy version >=1.16.5 and <1.23.0 is required for this version of SciPy (detected version 1.23.0\n",
      "  warnings.warn(f\"A NumPy version >={np_minversion} and <{np_maxversion}\"\n"
     ]
    }
   ],
   "source": [
    "import pandas as pd\n",
    "import statsmodels.api as sm\n",
    "from sklearn.linear_model import LinearRegression\n",
    "import numpy as np"
   ]
  },
  {
   "cell_type": "code",
   "execution_count": 23,
   "metadata": {},
   "outputs": [
    {
     "name": "stdout",
     "output_type": "stream",
     "text": [
      "   Game_id Team  Zone Foot Keeper  OnTarget  Goal  Penalty_Number  Elimination\n",
      "0        1  FRA   7.0    R      R       1.0   1.0               1          0.0\n",
      "1        1  GER   9.0    R      C       1.0   1.0               2          0.0\n",
      "2        1  FRA   6.0    R      L       1.0   1.0               3          0.0\n",
      "3        1  GER   2.0    R      C       1.0   1.0               4          0.0\n",
      "4        1  FRA   9.0    R      L       1.0   1.0               5          0.0\n",
      "5        1  GER   4.0    R      L       1.0   0.0               6          0.0\n",
      "6        1  FRA   8.0    L      L       1.0   0.0               7          0.0\n",
      "7        1  GER   3.0    R      R       1.0   1.0               8          0.0\n",
      "8        1  FRA   9.0    R      L       1.0   1.0               9          0.0\n",
      "9        1  GER   9.0    R      C       1.0   1.0              10          1.0\n"
     ]
    },
    {
     "data": {
      "text/html": [
       "<div>\n",
       "<style scoped>\n",
       "    .dataframe tbody tr th:only-of-type {\n",
       "        vertical-align: middle;\n",
       "    }\n",
       "\n",
       "    .dataframe tbody tr th {\n",
       "        vertical-align: top;\n",
       "    }\n",
       "\n",
       "    .dataframe thead th {\n",
       "        text-align: right;\n",
       "    }\n",
       "</style>\n",
       "<table border=\"1\" class=\"dataframe\">\n",
       "  <thead>\n",
       "    <tr style=\"text-align: right;\">\n",
       "      <th></th>\n",
       "      <th>Game_id</th>\n",
       "      <th>Zone</th>\n",
       "      <th>OnTarget</th>\n",
       "      <th>Goal</th>\n",
       "      <th>Penalty_Number</th>\n",
       "      <th>Elimination</th>\n",
       "    </tr>\n",
       "  </thead>\n",
       "  <tbody>\n",
       "    <tr>\n",
       "      <th>count</th>\n",
       "      <td>279.000000</td>\n",
       "      <td>279.000000</td>\n",
       "      <td>279.000000</td>\n",
       "      <td>279.000000</td>\n",
       "      <td>279.000000</td>\n",
       "      <td>279.000000</td>\n",
       "    </tr>\n",
       "    <tr>\n",
       "      <th>mean</th>\n",
       "      <td>15.333333</td>\n",
       "      <td>5.594982</td>\n",
       "      <td>0.917563</td>\n",
       "      <td>0.698925</td>\n",
       "      <td>5.218638</td>\n",
       "      <td>0.129032</td>\n",
       "    </tr>\n",
       "    <tr>\n",
       "      <th>std</th>\n",
       "      <td>8.815046</td>\n",
       "      <td>2.559531</td>\n",
       "      <td>0.275524</td>\n",
       "      <td>0.459550</td>\n",
       "      <td>2.792373</td>\n",
       "      <td>0.335838</td>\n",
       "    </tr>\n",
       "    <tr>\n",
       "      <th>min</th>\n",
       "      <td>1.000000</td>\n",
       "      <td>1.000000</td>\n",
       "      <td>0.000000</td>\n",
       "      <td>0.000000</td>\n",
       "      <td>1.000000</td>\n",
       "      <td>0.000000</td>\n",
       "    </tr>\n",
       "    <tr>\n",
       "      <th>25%</th>\n",
       "      <td>8.000000</td>\n",
       "      <td>4.000000</td>\n",
       "      <td>1.000000</td>\n",
       "      <td>0.000000</td>\n",
       "      <td>3.000000</td>\n",
       "      <td>0.000000</td>\n",
       "    </tr>\n",
       "    <tr>\n",
       "      <th>50%</th>\n",
       "      <td>15.000000</td>\n",
       "      <td>6.000000</td>\n",
       "      <td>1.000000</td>\n",
       "      <td>1.000000</td>\n",
       "      <td>5.000000</td>\n",
       "      <td>0.000000</td>\n",
       "    </tr>\n",
       "    <tr>\n",
       "      <th>75%</th>\n",
       "      <td>23.000000</td>\n",
       "      <td>7.000000</td>\n",
       "      <td>1.000000</td>\n",
       "      <td>1.000000</td>\n",
       "      <td>7.000000</td>\n",
       "      <td>0.000000</td>\n",
       "    </tr>\n",
       "    <tr>\n",
       "      <th>max</th>\n",
       "      <td>30.000000</td>\n",
       "      <td>9.000000</td>\n",
       "      <td>1.000000</td>\n",
       "      <td>1.000000</td>\n",
       "      <td>12.000000</td>\n",
       "      <td>1.000000</td>\n",
       "    </tr>\n",
       "  </tbody>\n",
       "</table>\n",
       "</div>"
      ],
      "text/plain": [
       "          Game_id        Zone    OnTarget        Goal  Penalty_Number  \\\n",
       "count  279.000000  279.000000  279.000000  279.000000      279.000000   \n",
       "mean    15.333333    5.594982    0.917563    0.698925        5.218638   \n",
       "std      8.815046    2.559531    0.275524    0.459550        2.792373   \n",
       "min      1.000000    1.000000    0.000000    0.000000        1.000000   \n",
       "25%      8.000000    4.000000    1.000000    0.000000        3.000000   \n",
       "50%     15.000000    6.000000    1.000000    1.000000        5.000000   \n",
       "75%     23.000000    7.000000    1.000000    1.000000        7.000000   \n",
       "max     30.000000    9.000000    1.000000    1.000000       12.000000   \n",
       "\n",
       "       Elimination  \n",
       "count   279.000000  \n",
       "mean      0.129032  \n",
       "std       0.335838  \n",
       "min       0.000000  \n",
       "25%       0.000000  \n",
       "50%       0.000000  \n",
       "75%       0.000000  \n",
       "max       1.000000  "
      ]
     },
     "execution_count": 23,
     "metadata": {},
     "output_type": "execute_result"
    }
   ],
   "source": [
    "sheet = pd.read_csv(r'C:\\Users\\csjes\\Desktop\\coding\\WorldCupShootouts.csv')\n",
    "df = pd.DataFrame(sheet, columns = ['Game_id', 'Team', 'Zone', 'Foot', 'Keeper', 'OnTarget', 'Goal', 'Penalty_Number', 'Elimination'])\n",
    "\n",
    "# drop NAN values and describe the data\n",
    "df = df.dropna()\n",
    "print(df.head(10))\n",
    "df.describe()"
   ]
  },
  {
   "cell_type": "code",
   "execution_count": 24,
   "metadata": {},
   "outputs": [
    {
     "name": "stdout",
     "output_type": "stream",
     "text": [
      "                            OLS Regression Results                            \n",
      "==============================================================================\n",
      "Dep. Variable:                   Goal   R-squared:                       0.011\n",
      "Model:                            OLS   Adj. R-squared:                  0.004\n",
      "Method:                 Least Squares   F-statistic:                     1.504\n",
      "Date:                Thu, 07 Jul 2022   Prob (F-statistic):              0.224\n",
      "Time:                        12:12:03   Log-Likelihood:                -176.95\n",
      "No. Observations:                 279   AIC:                             359.9\n",
      "Df Residuals:                     276   BIC:                             370.8\n",
      "Df Model:                           2                                         \n",
      "Covariance Type:            nonrobust                                         \n",
      "==================================================================================\n",
      "                     coef    std err          t      P>|t|      [0.025      0.975]\n",
      "----------------------------------------------------------------------------------\n",
      "const              0.8118      0.082      9.922      0.000       0.651       0.973\n",
      "Penalty_Number    -0.0162      0.010     -1.640      0.102      -0.036       0.003\n",
      "Zone              -0.0051      0.011     -0.472      0.637      -0.026       0.016\n",
      "==============================================================================\n",
      "Omnibus:                      192.335   Durbin-Watson:                   1.956\n",
      "Prob(Omnibus):                  0.000   Jarque-Bera (JB):               51.204\n",
      "Skew:                          -0.854   Prob(JB):                     7.61e-12\n",
      "Kurtosis:                       1.782   Cond. No.                         24.5\n",
      "==============================================================================\n",
      "\n",
      "Notes:\n",
      "[1] Standard Errors assume that the covariance matrix of the errors is correctly specified.\n"
     ]
    }
   ],
   "source": [
    "X = df[['Penalty_Number', 'Zone']]\n",
    "y = df[['Goal']]\n",
    "\n",
    "X = sm.add_constant(X)\n",
    "result = sm.OLS(y,X).fit()\n",
    "print(result.summary())"
   ]
  }
 ],
 "metadata": {
  "kernelspec": {
   "display_name": "Python 3.9.12 ('base')",
   "language": "python",
   "name": "python3"
  },
  "language_info": {
   "codemirror_mode": {
    "name": "ipython",
    "version": 3
   },
   "file_extension": ".py",
   "mimetype": "text/x-python",
   "name": "python",
   "nbconvert_exporter": "python",
   "pygments_lexer": "ipython3",
   "version": "3.9.12"
  },
  "orig_nbformat": 4,
  "vscode": {
   "interpreter": {
    "hash": "6582d9aacd0dc7401298f5a8a5bb6397bff1cf9d99f4570a5bbb2483f843f71c"
   }
  }
 },
 "nbformat": 4,
 "nbformat_minor": 2
}
